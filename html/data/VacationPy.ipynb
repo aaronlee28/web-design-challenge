{
 "cells": [
  {
   "cell_type": "markdown",
   "metadata": {},
   "source": [
    "# VacationPy\n",
    "----\n",
    "\n",
    "#### Note\n",
    "* Keep an eye on your API usage. Use https://developers.google.com/maps/reporting/gmp-reporting as reference for how to monitor your usage and billing.\n",
    "\n",
    "* Instructions have been included for each segment. You do not have to follow them exactly, but they are included to help you think through the steps."
   ]
  },
  {
   "cell_type": "code",
   "execution_count": 3,
   "metadata": {},
   "outputs": [],
   "source": [
    "# Dependencies and Setup\n",
    "import matplotlib.pyplot as plt\n",
    "import pandas as pd\n",
    "import numpy as np\n",
    "import requests\n",
    "import gmaps\n",
    "import os\n",
    "import json\n",
    "\n"
   ]
  },
  {
   "cell_type": "markdown",
   "metadata": {},
   "source": [
    "### Store Part I results into DataFrame\n",
    "* Load the csv exported in Part I to a DataFrame"
   ]
  },
  {
   "cell_type": "code",
   "execution_count": 6,
   "metadata": {},
   "outputs": [
    {
     "output_type": "execute_result",
     "data": {
      "text/plain": [
       "             City      Lat       Lng  Max temp  Humidity  Cloudiness  \\\n",
       "0  cabo san lucas  22.8909 -109.9124     60.01        85          42   \n",
       "1  saint-philippe -21.3585   55.7679     87.80        62           0   \n",
       "2    kruisfontein -34.0033   24.7314     81.00        54           0   \n",
       "3          avarua -21.2078 -159.7750     77.00        88           8   \n",
       "4       jamestown  42.0970  -79.2353     17.60        57           1   \n",
       "\n",
       "   Wind Speed        Date  \n",
       "0        1.01  1612687256  \n",
       "1       11.50  1612687256  \n",
       "2        8.99  1612687257  \n",
       "3        3.44  1612687257  \n",
       "4        8.05  1612687257  "
      ],
      "text/html": "<div>\n<style scoped>\n    .dataframe tbody tr th:only-of-type {\n        vertical-align: middle;\n    }\n\n    .dataframe tbody tr th {\n        vertical-align: top;\n    }\n\n    .dataframe thead th {\n        text-align: right;\n    }\n</style>\n<table border=\"1\" class=\"dataframe\">\n  <thead>\n    <tr style=\"text-align: right;\">\n      <th></th>\n      <th>City</th>\n      <th>Lat</th>\n      <th>Lng</th>\n      <th>Max temp</th>\n      <th>Humidity</th>\n      <th>Cloudiness</th>\n      <th>Wind Speed</th>\n      <th>Date</th>\n    </tr>\n  </thead>\n  <tbody>\n    <tr>\n      <th>0</th>\n      <td>cabo san lucas</td>\n      <td>22.8909</td>\n      <td>-109.9124</td>\n      <td>60.01</td>\n      <td>85</td>\n      <td>42</td>\n      <td>1.01</td>\n      <td>1612687256</td>\n    </tr>\n    <tr>\n      <th>1</th>\n      <td>saint-philippe</td>\n      <td>-21.3585</td>\n      <td>55.7679</td>\n      <td>87.80</td>\n      <td>62</td>\n      <td>0</td>\n      <td>11.50</td>\n      <td>1612687256</td>\n    </tr>\n    <tr>\n      <th>2</th>\n      <td>kruisfontein</td>\n      <td>-34.0033</td>\n      <td>24.7314</td>\n      <td>81.00</td>\n      <td>54</td>\n      <td>0</td>\n      <td>8.99</td>\n      <td>1612687257</td>\n    </tr>\n    <tr>\n      <th>3</th>\n      <td>avarua</td>\n      <td>-21.2078</td>\n      <td>-159.7750</td>\n      <td>77.00</td>\n      <td>88</td>\n      <td>8</td>\n      <td>3.44</td>\n      <td>1612687257</td>\n    </tr>\n    <tr>\n      <th>4</th>\n      <td>jamestown</td>\n      <td>42.0970</td>\n      <td>-79.2353</td>\n      <td>17.60</td>\n      <td>57</td>\n      <td>1</td>\n      <td>8.05</td>\n      <td>1612687257</td>\n    </tr>\n  </tbody>\n</table>\n</div>"
     },
     "metadata": {},
     "execution_count": 6
    }
   ],
   "source": [
    "df = pd.read_csv('clean_city_data.csv')\n",
    "clean_df = df.drop('Unnamed: 0', 1)\n",
    "clean_df.dropna(inplace = True)\n",
    "clean_df.head()"
   ]
  },
  {
   "cell_type": "code",
   "execution_count": 7,
   "metadata": {},
   "outputs": [],
   "source": [
    "# Convert clean_df to HTML \n",
    "html = clean_df.to_html()"
   ]
  },
  {
   "cell_type": "code",
   "execution_count": 8,
   "metadata": {
    "tags": [
     "outputPrepend"
    ]
   },
   "outputs": [
    {
     "output_type": "stream",
     "name": "stdout",
     "text": [
      "</tr>\n    <tr>\n      <th>471</th>\n      <td>dongying</td>\n      <td>37.4564</td>\n      <td>118.4856</td>\n      <td>34.77</td>\n      <td>73</td>\n      <td>100</td>\n      <td>10.76</td>\n      <td>1612687342</td>\n    </tr>\n    <tr>\n      <th>472</th>\n      <td>chapais</td>\n      <td>49.7834</td>\n      <td>-74.8492</td>\n      <td>1.40</td>\n      <td>92</td>\n      <td>90</td>\n      <td>3.44</td>\n      <td>1612687342</td>\n    </tr>\n    <tr>\n      <th>473</th>\n      <td>svetlogorsk</td>\n      <td>52.6333</td>\n      <td>29.7333</td>\n      <td>5.56</td>\n      <td>90</td>\n      <td>25</td>\n      <td>4.68</td>\n      <td>1612687343</td>\n    </tr>\n    <tr>\n      <th>474</th>\n      <td>ormara</td>\n      <td>25.2088</td>\n      <td>64.6357</td>\n      <td>71.22</td>\n      <td>33</td>\n      <td>0</td>\n      <td>6.33</td>\n      <td>1612687343</td>\n    </tr>\n    <tr>\n      <th>475</th>\n      <td>alice springs</td>\n      <td>-23.7000</td>\n      <td>133.8833</td>\n      <td>91.40</td>\n      <td>18</td>\n      <td>15</td>\n      <td>13.80</td>\n      <td>1612687343</td>\n    </tr>\n    <tr>\n      <th>476</th>\n      <td>dudinka</td>\n      <td>69.4058</td>\n      <td>86.1778</td>\n      <td>-34.94</td>\n      <td>79</td>\n      <td>0</td>\n      <td>8.25</td>\n      <td>1612687343</td>\n    </tr>\n    <tr>\n      <th>477</th>\n      <td>abengourou</td>\n      <td>6.7297</td>\n      <td>-3.4964</td>\n      <td>79.38</td>\n      <td>82</td>\n      <td>97</td>\n      <td>3.98</td>\n      <td>1612687343</td>\n    </tr>\n    <tr>\n      <th>478</th>\n      <td>rafaela</td>\n      <td>-31.2503</td>\n      <td>-61.4867</td>\n      <td>66.99</td>\n      <td>53</td>\n      <td>0</td>\n      <td>1.01</td>\n      <td>1612687343</td>\n    </tr>\n    <tr>\n      <th>479</th>\n      <td>rawson</td>\n      <td>-43.3002</td>\n      <td>-65.1023</td>\n      <td>57.29</td>\n      <td>65</td>\n      <td>100</td>\n      <td>12.08</td>\n      <td>1612687343</td>\n    </tr>\n    <tr>\n      <th>480</th>\n      <td>khani</td>\n      <td>41.9563</td>\n      <td>42.9566</td>\n      <td>48.20</td>\n      <td>93</td>\n      <td>90</td>\n      <td>10.36</td>\n      <td>1612687345</td>\n    </tr>\n    <tr>\n      <th>481</th>\n      <td>gusau</td>\n      <td>12.1628</td>\n      <td>6.6614</td>\n      <td>77.16</td>\n      <td>16</td>\n      <td>0</td>\n      <td>13.20</td>\n      <td>1612687283</td>\n    </tr>\n    <tr>\n      <th>482</th>\n      <td>aksarayskiy</td>\n      <td>46.7924</td>\n      <td>48.0119</td>\n      <td>30.20</td>\n      <td>64</td>\n      <td>40</td>\n      <td>13.42</td>\n      <td>1612687345</td>\n    </tr>\n    <tr>\n      <th>483</th>\n      <td>roros</td>\n      <td>62.5747</td>\n      <td>11.3842</td>\n      <td>-20.20</td>\n      <td>69</td>\n      <td>40</td>\n      <td>1.14</td>\n      <td>1612687345</td>\n    </tr>\n    <tr>\n      <th>484</th>\n      <td>kutum</td>\n      <td>14.2000</td>\n      <td>24.6667</td>\n      <td>67.32</td>\n      <td>24</td>\n      <td>32</td>\n      <td>14.85</td>\n      <td>1612687345</td>\n    </tr>\n    <tr>\n      <th>485</th>\n      <td>rudbar</td>\n      <td>30.1500</td>\n      <td>62.6000</td>\n      <td>75.38</td>\n      <td>16</td>\n      <td>0</td>\n      <td>3.80</td>\n      <td>1612687345</td>\n    </tr>\n    <tr>\n      <th>486</th>\n      <td>ixtapa</td>\n      <td>20.7000</td>\n      <td>-105.2000</td>\n      <td>66.00</td>\n      <td>91</td>\n      <td>1</td>\n      <td>1.61</td>\n      <td>1612687345</td>\n    </tr>\n    <tr>\n      <th>487</th>\n      <td>pedernales</td>\n      <td>18.0384</td>\n      <td>-71.7440</td>\n      <td>73.87</td>\n      <td>57</td>\n      <td>84</td>\n      <td>5.41</td>\n      <td>1612687345</td>\n    </tr>\n    <tr>\n      <th>488</th>\n      <td>acajutla</td>\n      <td>13.5928</td>\n      <td>-89.8275</td>\n      <td>75.16</td>\n      <td>67</td>\n      <td>0</td>\n      <td>5.55</td>\n      <td>1612687345</td>\n    </tr>\n    <tr>\n      <th>489</th>\n      <td>axim</td>\n      <td>4.8699</td>\n      <td>-2.2405</td>\n      <td>82.22</td>\n      <td>79</td>\n      <td>99</td>\n      <td>6.35</td>\n      <td>1612687346</td>\n    </tr>\n    <tr>\n      <th>490</th>\n      <td>lalin</td>\n      <td>42.7167</td>\n      <td>-8.1167</td>\n      <td>35.60</td>\n      <td>93</td>\n      <td>75</td>\n      <td>5.75</td>\n      <td>1612687346</td>\n    </tr>\n    <tr>\n      <th>491</th>\n      <td>bagdarin</td>\n      <td>54.4333</td>\n      <td>113.6000</td>\n      <td>-4.36</td>\n      <td>85</td>\n      <td>93</td>\n      <td>1.72</td>\n      <td>1612687346</td>\n    </tr>\n    <tr>\n      <th>492</th>\n      <td>asyut</td>\n      <td>27.1810</td>\n      <td>31.1837</td>\n      <td>59.00</td>\n      <td>72</td>\n      <td>0</td>\n      <td>5.75</td>\n      <td>1612687346</td>\n    </tr>\n    <tr>\n      <th>493</th>\n      <td>kautokeino</td>\n      <td>69.0125</td>\n      <td>23.0412</td>\n      <td>14.50</td>\n      <td>93</td>\n      <td>96</td>\n      <td>9.42</td>\n      <td>1612687346</td>\n    </tr>\n    <tr>\n      <th>494</th>\n      <td>nkhotakota</td>\n      <td>-12.9274</td>\n      <td>34.2961</td>\n      <td>81.25</td>\n      <td>69</td>\n      <td>97</td>\n      <td>5.03</td>\n      <td>1612687346</td>\n    </tr>\n    <tr>\n      <th>495</th>\n      <td>ola</td>\n      <td>59.5833</td>\n      <td>151.2833</td>\n      <td>13.60</td>\n      <td>88</td>\n      <td>100</td>\n      <td>23.02</td>\n      <td>1612687346</td>\n    </tr>\n    <tr>\n      <th>496</th>\n      <td>husavik</td>\n      <td>66.0449</td>\n      <td>-17.3389</td>\n      <td>30.20</td>\n      <td>86</td>\n      <td>40</td>\n      <td>3.44</td>\n      <td>1612687346</td>\n    </tr>\n    <tr>\n      <th>497</th>\n      <td>alekseyevsk</td>\n      <td>57.8406</td>\n      <td>108.3492</td>\n      <td>16.92</td>\n      <td>95</td>\n      <td>100</td>\n      <td>14.25</td>\n      <td>1612687347</td>\n    </tr>\n    <tr>\n      <th>498</th>\n      <td>ler</td>\n      <td>8.3018</td>\n      <td>30.1418</td>\n      <td>86.43</td>\n      <td>13</td>\n      <td>0</td>\n      <td>8.55</td>\n      <td>1612687347</td>\n    </tr>\n    <tr>\n      <th>499</th>\n      <td>sungai besar</td>\n      <td>3.6746</td>\n      <td>100.9867</td>\n      <td>91.40</td>\n      <td>62</td>\n      <td>20</td>\n      <td>5.75</td>\n      <td>1612687347</td>\n    </tr>\n    <tr>\n      <th>500</th>\n      <td>siavonga</td>\n      <td>-16.5382</td>\n      <td>28.7088</td>\n      <td>82.22</td>\n      <td>67</td>\n      <td>100</td>\n      <td>4.29</td>\n      <td>1612687347</td>\n    </tr>\n    <tr>\n      <th>501</th>\n      <td>takoradi</td>\n      <td>4.8845</td>\n      <td>-1.7554</td>\n      <td>81.93</td>\n      <td>80</td>\n      <td>100</td>\n      <td>6.22</td>\n      <td>1612687347</td>\n    </tr>\n    <tr>\n      <th>502</th>\n      <td>comodoro rivadavia</td>\n      <td>-45.8667</td>\n      <td>-67.5000</td>\n      <td>55.40</td>\n      <td>82</td>\n      <td>75</td>\n      <td>2.30</td>\n      <td>1612687347</td>\n    </tr>\n    <tr>\n      <th>503</th>\n      <td>sibolga</td>\n      <td>1.7427</td>\n      <td>98.7792</td>\n      <td>86.29</td>\n      <td>61</td>\n      <td>74</td>\n      <td>3.49</td>\n      <td>1612687347</td>\n    </tr>\n    <tr>\n      <th>504</th>\n      <td>svolvaer</td>\n      <td>68.2342</td>\n      <td>14.5683</td>\n      <td>30.99</td>\n      <td>85</td>\n      <td>22</td>\n      <td>3.00</td>\n      <td>1612687347</td>\n    </tr>\n    <tr>\n      <th>505</th>\n      <td>konstantinovskaya</td>\n      <td>44.0456</td>\n      <td>43.1583</td>\n      <td>28.40</td>\n      <td>86</td>\n      <td>75</td>\n      <td>11.18</td>\n      <td>1612687347</td>\n    </tr>\n    <tr>\n      <th>506</th>\n      <td>jacarau</td>\n      <td>-6.6122</td>\n      <td>-35.2928</td>\n      <td>72.12</td>\n      <td>90</td>\n      <td>97</td>\n      <td>4.36</td>\n      <td>1612687348</td>\n    </tr>\n    <tr>\n      <th>507</th>\n      <td>mount pleasant</td>\n      <td>32.7941</td>\n      <td>-79.8626</td>\n      <td>43.00</td>\n      <td>100</td>\n      <td>90</td>\n      <td>8.12</td>\n      <td>1612687348</td>\n    </tr>\n    <tr>\n      <th>508</th>\n      <td>hirara</td>\n      <td>24.8000</td>\n      <td>125.2833</td>\n      <td>73.40</td>\n      <td>78</td>\n      <td>75</td>\n      <td>11.50</td>\n      <td>1612687212</td>\n    </tr>\n    <tr>\n      <th>509</th>\n      <td>villazon</td>\n      <td>-22.0866</td>\n      <td>-65.5942</td>\n      <td>48.78</td>\n      <td>87</td>\n      <td>80</td>\n      <td>0.83</td>\n      <td>1612687348</td>\n    </tr>\n    <tr>\n      <th>510</th>\n      <td>semenivka</td>\n      <td>52.1783</td>\n      <td>32.5818</td>\n      <td>4.01</td>\n      <td>92</td>\n      <td>24</td>\n      <td>6.71</td>\n      <td>1612687348</td>\n    </tr>\n    <tr>\n      <th>511</th>\n      <td>kologriv</td>\n      <td>58.8275</td>\n      <td>44.3178</td>\n      <td>-5.62</td>\n      <td>88</td>\n      <td>100</td>\n      <td>11.27</td>\n      <td>1612687348</td>\n    </tr>\n    <tr>\n      <th>512</th>\n      <td>santa rosalia</td>\n      <td>27.3167</td>\n      <td>-112.2833</td>\n      <td>56.01</td>\n      <td>39</td>\n      <td>10</td>\n      <td>3.47</td>\n      <td>1612687348</td>\n    </tr>\n    <tr>\n      <th>513</th>\n      <td>ust-nera</td>\n      <td>64.5667</td>\n      <td>143.2000</td>\n      <td>-19.43</td>\n      <td>78</td>\n      <td>35</td>\n      <td>4.56</td>\n      <td>1612687348</td>\n    </tr>\n    <tr>\n      <th>514</th>\n      <td>jumla</td>\n      <td>29.2747</td>\n      <td>82.1838</td>\n      <td>57.45</td>\n      <td>29</td>\n      <td>0</td>\n      <td>4.27</td>\n      <td>1612687349</td>\n    </tr>\n    <tr>\n      <th>515</th>\n      <td>banda aceh</td>\n      <td>5.5577</td>\n      <td>95.3222</td>\n      <td>86.20</td>\n      <td>65</td>\n      <td>64</td>\n      <td>6.93</td>\n      <td>1612687349</td>\n    </tr>\n    <tr>\n      <th>516</th>\n      <td>corato</td>\n      <td>41.1455</td>\n      <td>16.4139</td>\n      <td>57.99</td>\n      <td>82</td>\n      <td>0</td>\n      <td>10.36</td>\n      <td>1612687349</td>\n    </tr>\n    <tr>\n      <th>517</th>\n      <td>meadow lake</td>\n      <td>34.8014</td>\n      <td>-106.5436</td>\n      <td>36.00</td>\n      <td>25</td>\n      <td>1</td>\n      <td>4.61</td>\n      <td>1612687349</td>\n    </tr>\n    <tr>\n      <th>518</th>\n      <td>bukavu</td>\n      <td>-2.5083</td>\n      <td>28.8608</td>\n      <td>74.61</td>\n      <td>63</td>\n      <td>79</td>\n      <td>1.01</td>\n      <td>1612687349</td>\n    </tr>\n    <tr>\n      <th>519</th>\n      <td>sinnamary</td>\n      <td>5.3833</td>\n      <td>-52.9500</td>\n      <td>77.02</td>\n      <td>87</td>\n      <td>97</td>\n      <td>13.02</td>\n      <td>1612687350</td>\n    </tr>\n    <tr>\n      <th>520</th>\n      <td>makungu</td>\n      <td>-8.7333</td>\n      <td>35.2833</td>\n      <td>73.80</td>\n      <td>83</td>\n      <td>90</td>\n      <td>2.80</td>\n      <td>1612687350</td>\n    </tr>\n    <tr>\n      <th>521</th>\n      <td>qasigiannguit</td>\n      <td>68.8193</td>\n      <td>-51.1922</td>\n      <td>28.40</td>\n      <td>40</td>\n      <td>0</td>\n      <td>25.32</td>\n      <td>1612687351</td>\n    </tr>\n    <tr>\n      <th>522</th>\n      <td>tshikapa</td>\n      <td>-6.4167</td>\n      <td>20.8000</td>\n      <td>80.40</td>\n      <td>72</td>\n      <td>95</td>\n      <td>0.58</td>\n      <td>1612687351</td>\n    </tr>\n    <tr>\n      <th>523</th>\n      <td>vila velha</td>\n      <td>-20.3297</td>\n      <td>-40.2925</td>\n      <td>71.60</td>\n      <td>88</td>\n      <td>90</td>\n      <td>4.61</td>\n      <td>1612687351</td>\n    </tr>\n    <tr>\n      <th>524</th>\n      <td>ayaviri</td>\n      <td>-14.8864</td>\n      <td>-70.5889</td>\n      <td>41.70</td>\n      <td>81</td>\n      <td>46</td>\n      <td>1.95</td>\n      <td>1612687351</td>\n    </tr>\n    <tr>\n      <th>525</th>\n      <td>santa isabel do rio negro</td>\n      <td>-0.4139</td>\n      <td>-65.0192</td>\n      <td>72.46</td>\n      <td>98</td>\n      <td>86</td>\n      <td>1.01</td>\n      <td>1612687351</td>\n    </tr>\n    <tr>\n      <th>526</th>\n      <td>copala</td>\n      <td>16.6500</td>\n      <td>-98.9833</td>\n      <td>71.89</td>\n      <td>83</td>\n      <td>0</td>\n      <td>2.75</td>\n      <td>1612687351</td>\n    </tr>\n    <tr>\n      <th>527</th>\n      <td>chernyshevskiy</td>\n      <td>63.0128</td>\n      <td>112.4714</td>\n      <td>-3.62</td>\n      <td>93</td>\n      <td>100</td>\n      <td>10.42</td>\n      <td>1612687351</td>\n    </tr>\n    <tr>\n      <th>528</th>\n      <td>tomatlan</td>\n      <td>19.9333</td>\n      <td>-105.2500</td>\n      <td>65.30</td>\n      <td>93</td>\n      <td>0</td>\n      <td>2.51</td>\n      <td>1612687352</td>\n    </tr>\n    <tr>\n      <th>529</th>\n      <td>camana</td>\n      <td>-16.6228</td>\n      <td>-72.7111</td>\n      <td>72.88</td>\n      <td>70</td>\n      <td>83</td>\n      <td>5.32</td>\n      <td>1612687352</td>\n    </tr>\n    <tr>\n      <th>530</th>\n      <td>urengoy</td>\n      <td>65.9667</td>\n      <td>78.3667</td>\n      <td>-6.79</td>\n      <td>91</td>\n      <td>100</td>\n      <td>20.18</td>\n      <td>1612687352</td>\n    </tr>\n    <tr>\n      <th>531</th>\n      <td>chabahar</td>\n      <td>25.2919</td>\n      <td>60.6430</td>\n      <td>70.74</td>\n      <td>46</td>\n      <td>0</td>\n      <td>6.11</td>\n      <td>1612687352</td>\n    </tr>\n    <tr>\n      <th>532</th>\n      <td>galesong</td>\n      <td>-5.3166</td>\n      <td>119.3661</td>\n      <td>87.80</td>\n      <td>66</td>\n      <td>20</td>\n      <td>4.61</td>\n      <td>1612687352</td>\n    </tr>\n    <tr>\n      <th>533</th>\n      <td>kyabram</td>\n      <td>-36.3167</td>\n      <td>145.0500</td>\n      <td>70.00</td>\n      <td>48</td>\n      <td>0</td>\n      <td>4.00</td>\n      <td>1612687353</td>\n    </tr>\n    <tr>\n      <th>534</th>\n      <td>nadym</td>\n      <td>65.5333</td>\n      <td>72.5167</td>\n      <td>-4.47</td>\n      <td>92</td>\n      <td>100</td>\n      <td>23.29</td>\n      <td>1612687353</td>\n    </tr>\n    <tr>\n      <th>535</th>\n      <td>polyarnyy</td>\n      <td>69.1989</td>\n      <td>33.4478</td>\n      <td>21.20</td>\n      <td>86</td>\n      <td>75</td>\n      <td>11.18</td>\n      <td>1612687353</td>\n    </tr>\n    <tr>\n      <th>536</th>\n      <td>oktyabrskoye</td>\n      <td>43.0645</td>\n      <td>44.7417</td>\n      <td>35.60</td>\n      <td>80</td>\n      <td>40</td>\n      <td>2.24</td>\n      <td>1612687353</td>\n    </tr>\n    <tr>\n      <th>537</th>\n      <td>sabang</td>\n      <td>5.8933</td>\n      <td>95.3214</td>\n      <td>82.00</td>\n      <td>80</td>\n      <td>77</td>\n      <td>17.40</td>\n      <td>1612687353</td>\n    </tr>\n    <tr>\n      <th>538</th>\n      <td>were ilu</td>\n      <td>10.6000</td>\n      <td>39.4333</td>\n      <td>63.70</td>\n      <td>48</td>\n      <td>96</td>\n      <td>1.43</td>\n      <td>1612687353</td>\n    </tr>\n    <tr>\n      <th>539</th>\n      <td>menongue</td>\n      <td>-14.6585</td>\n      <td>17.6910</td>\n      <td>74.14</td>\n      <td>76</td>\n      <td>100</td>\n      <td>7.05</td>\n      <td>1612687353</td>\n    </tr>\n    <tr>\n      <th>540</th>\n      <td>sault sainte marie</td>\n      <td>46.5168</td>\n      <td>-84.3333</td>\n      <td>1.40</td>\n      <td>65</td>\n      <td>1</td>\n      <td>11.50</td>\n      <td>1612687354</td>\n    </tr>\n    <tr>\n      <th>541</th>\n      <td>puerto barrios</td>\n      <td>15.7167</td>\n      <td>-88.6000</td>\n      <td>73.00</td>\n      <td>90</td>\n      <td>8</td>\n      <td>2.51</td>\n      <td>1612687354</td>\n    </tr>\n    <tr>\n      <th>542</th>\n      <td>bacsalmas</td>\n      <td>46.1265</td>\n      <td>19.3326</td>\n      <td>50.00</td>\n      <td>74</td>\n      <td>100</td>\n      <td>7.43</td>\n      <td>1612687354</td>\n    </tr>\n    <tr>\n      <th>543</th>\n      <td>samarai</td>\n      <td>-10.6167</td>\n      <td>150.6667</td>\n      <td>85.10</td>\n      <td>74</td>\n      <td>100</td>\n      <td>5.59</td>\n      <td>1612687354</td>\n    </tr>\n    <tr>\n      <th>544</th>\n      <td>corridonia</td>\n      <td>43.2511</td>\n      <td>13.5088</td>\n      <td>54.00</td>\n      <td>94</td>\n      <td>100</td>\n      <td>4.34</td>\n      <td>1612687354</td>\n    </tr>\n    <tr>\n      <th>545</th>\n      <td>fare</td>\n      <td>-16.7000</td>\n      <td>-151.0167</td>\n      <td>82.04</td>\n      <td>74</td>\n      <td>19</td>\n      <td>12.17</td>\n      <td>1612687355</td>\n    </tr>\n    <tr>\n      <th>546</th>\n      <td>nayoro</td>\n      <td>44.3506</td>\n      <td>142.4578</td>\n      <td>11.01</td>\n      <td>92</td>\n      <td>100</td>\n      <td>5.08</td>\n      <td>1612687355</td>\n    </tr>\n    <tr>\n      <th>547</th>\n      <td>kirakira</td>\n      <td>-10.4544</td>\n      <td>161.9205</td>\n      <td>79.29</td>\n      <td>82</td>\n      <td>100</td>\n      <td>8.43</td>\n      <td>1612687355</td>\n    </tr>\n    <tr>\n      <th>548</th>\n      <td>limbang</td>\n      <td>4.7500</td>\n      <td>115.0000</td>\n      <td>86.00</td>\n      <td>70</td>\n      <td>75</td>\n      <td>10.36</td>\n      <td>1612687355</td>\n    </tr>\n    <tr>\n      <th>549</th>\n      <td>sunggal</td>\n      <td>3.5765</td>\n      <td>98.6151</td>\n      <td>87.80</td>\n      <td>79</td>\n      <td>40</td>\n      <td>14.97</td>\n      <td>1612687355</td>\n    </tr>\n    <tr>\n      <th>550</th>\n      <td>douglas</td>\n      <td>41.3000</td>\n      <td>-96.1670</td>\n      <td>3.20</td>\n      <td>72</td>\n      <td>90</td>\n      <td>8.43</td>\n      <td>1612687073</td>\n    </tr>\n    <tr>\n      <th>551</th>\n      <td>vitoria da conquista</td>\n      <td>-14.8661</td>\n      <td>-40.8394</td>\n      <td>65.07</td>\n      <td>99</td>\n      <td>100</td>\n      <td>3.00</td>\n      <td>1612687356</td>\n    </tr>\n    <tr>\n      <th>552</th>\n      <td>gornopravdinsk</td>\n      <td>60.0500</td>\n      <td>69.9000</td>\n      <td>31.71</td>\n      <td>98</td>\n      <td>100</td>\n      <td>12.71</td>\n      <td>1612687356</td>\n    </tr>\n    <tr>\n      <th>553</th>\n      <td>tinogboc</td>\n      <td>12.0074</td>\n      <td>121.4122</td>\n      <td>81.10</td>\n      <td>79</td>\n      <td>0</td>\n      <td>22.48</td>\n      <td>1612687356</td>\n    </tr>\n    <tr>\n      <th>554</th>\n      <td>caravelas</td>\n      <td>-17.7125</td>\n      <td>-39.2481</td>\n      <td>75.69</td>\n      <td>88</td>\n      <td>100</td>\n      <td>7.61</td>\n      <td>1612687356</td>\n    </tr>\n    <tr>\n      <th>555</th>\n      <td>cordoba</td>\n      <td>-31.4135</td>\n      <td>-64.1811</td>\n      <td>71.01</td>\n      <td>82</td>\n      <td>0</td>\n      <td>8.05</td>\n      <td>1612687356</td>\n    </tr>\n    <tr>\n      <th>556</th>\n      <td>gaffney</td>\n      <td>35.0718</td>\n      <td>-81.6498</td>\n      <td>34.00</td>\n      <td>93</td>\n      <td>100</td>\n      <td>3.00</td>\n      <td>1612687356</td>\n    </tr>\n    <tr>\n      <th>557</th>\n      <td>freeport</td>\n      <td>40.6576</td>\n      <td>-73.5832</td>\n      <td>35.01</td>\n      <td>69</td>\n      <td>90</td>\n      <td>4.61</td>\n      <td>1612687356</td>\n    </tr>\n    <tr>\n      <th>558</th>\n      <td>bere</td>\n      <td>9.3202</td>\n      <td>16.1552</td>\n      <td>86.27</td>\n      <td>13</td>\n      <td>29</td>\n      <td>6.82</td>\n      <td>1612687356</td>\n    </tr>\n    <tr>\n      <th>559</th>\n      <td>marzuq</td>\n      <td>14.4000</td>\n      <td>46.4667</td>\n      <td>76.41</td>\n      <td>25</td>\n      <td>66</td>\n      <td>8.72</td>\n      <td>1612687357</td>\n    </tr>\n    <tr>\n      <th>560</th>\n      <td>tuatapere</td>\n      <td>-46.1333</td>\n      <td>167.6833</td>\n      <td>55.45</td>\n      <td>89</td>\n      <td>72</td>\n      <td>0.83</td>\n      <td>1612687357</td>\n    </tr>\n    <tr>\n      <th>561</th>\n      <td>north bend</td>\n      <td>43.4065</td>\n      <td>-124.2243</td>\n      <td>46.40</td>\n      <td>93</td>\n      <td>90</td>\n      <td>1.52</td>\n      <td>1612687357</td>\n    </tr>\n    <tr>\n      <th>562</th>\n      <td>springdale</td>\n      <td>36.1867</td>\n      <td>-94.1288</td>\n      <td>27.00</td>\n      <td>74</td>\n      <td>90</td>\n      <td>11.50</td>\n      <td>1612687357</td>\n    </tr>\n    <tr>\n      <th>563</th>\n      <td>lorengau</td>\n      <td>-2.0226</td>\n      <td>147.2712</td>\n      <td>82.63</td>\n      <td>80</td>\n      <td>94</td>\n      <td>6.85</td>\n      <td>1612687357</td>\n    </tr>\n    <tr>\n      <th>564</th>\n      <td>adrar</td>\n      <td>20.5022</td>\n      <td>-10.0711</td>\n      <td>54.82</td>\n      <td>45</td>\n      <td>9</td>\n      <td>13.73</td>\n      <td>1612687357</td>\n    </tr>\n  </tbody>\n</table>\n"
     ]
    }
   ],
   "source": [
    "print(html)"
   ]
  },
  {
   "cell_type": "code",
   "execution_count": null,
   "metadata": {},
   "outputs": [],
   "source": []
  }
 ],
 "metadata": {
  "kernelspec": {
   "name": "python3",
   "display_name": "Python 3.6.10 64-bit ('PythonData': conda)",
   "metadata": {
    "interpreter": {
     "hash": "9093931be169533ad0f0dd76f55650949bcb45b2ed14d0b34b011d6ae005ebd8"
    }
   }
  },
  "language_info": {
   "codemirror_mode": {
    "name": "ipython",
    "version": 3
   },
   "file_extension": ".py",
   "mimetype": "text/x-python",
   "name": "python",
   "nbconvert_exporter": "python",
   "pygments_lexer": "ipython3",
   "version": "3.6.10-final"
  },
  "latex_envs": {
   "LaTeX_envs_menu_present": true,
   "autoclose": false,
   "autocomplete": true,
   "bibliofile": "biblio.bib",
   "cite_by": "apalike",
   "current_citInitial": 1,
   "eqLabelWithNumbers": true,
   "eqNumInitial": 1,
   "hotkeys": {
    "equation": "Ctrl-E",
    "itemize": "Ctrl-I"
   },
   "labels_anchors": false,
   "latex_user_defs": false,
   "report_style_numbering": false,
   "user_envs_cfg": false
  }
 },
 "nbformat": 4,
 "nbformat_minor": 4
}